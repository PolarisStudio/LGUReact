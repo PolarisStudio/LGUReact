{
 "cells": [
  {
   "cell_type": "markdown",
   "metadata": {},
   "source": [
    "# React Course L5\n",
    "\n",
    "- fetch(网络请求)\n",
    "- 组件化编程\n",
    "- class\n",
    "- jsx(React基本语法)\n",
    "- Profile(demo)"
   ]
  },
  {
   "cell_type": "markdown",
   "metadata": {},
   "source": [
    "### fetch & 网络请求\n",
    "\n",
    "_Reference: https://developers.google.com/web/updates/2015/03/introduction-to-fetch _\n",
    "\n",
    "天气API: http://t.weather.sojson.com/api/weather/city/{城市代码} 使用指南：https://www.sojson.com/blog/305.html\n"
   ]
  },
  {
   "cell_type": "markdown",
   "metadata": {},
   "source": [
    "## CORS: something annoying!\n",
    "\n",
    "### 起因：\n",
    "\n",
    "在很久之前，JavaScript前端只能访问本网站的链接，原因有很多，比如：限制其他网站访问本站的资源……\n",
    "\n",
    "但是，这会带来不必要的麻烦，比如资源的不共享。\n",
    "\n",
    "于是，CORS（Cross-origin resource sharing） “跨域资源共享” 出现了。通过该协议可以进行跨域资源共享，就是你可以在JavaScript中直接访问其他域名下的资源。\n",
    "\n",
    "然而，处于安全性的考虑，Chrome浏览器限制了CORS的使用。也就是说，简单的跨域网络请求并不能在Chrome上执行。\n",
    "\n",
    "那么，解决方案是：使用代理进行访问！\n",
    "\n",
    "React是基于Node.js的框架，Node.js实际上是一个服务器框架。通过设置代理，我们可以绕开CORS进行跨域访问！"
   ]
  },
  {
   "cell_type": "markdown",
   "metadata": {},
   "source": [
    "### 代理设置\n",
    "\n",
    "1. 暂时停止React的运行（Ctrl/Command + C)\n",
    "2. 打开package.json，并添加proxy（代理），此处以天气API为例"
   ]
  },
  {
   "cell_type": "markdown",
   "metadata": {},
   "source": [
    "```  \n",
    "  . . .\n",
    "   \"browserslist\": [\n",
    "    \">0.2%\",\n",
    "    \"not dead\",\n",
    "    \"not ie <= 11\",\n",
    "    \"not op_mini all\"\n",
    "  ],\n",
    "       \n",
    "       \n",
    "  \"proxy\": \"http://t.weather.sojson.com\" \n",
    "\n",
    "\n",
    "}```"
   ]
  },
  {
   "cell_type": "markdown",
   "metadata": {},
   "source": [
    "## fetch 网络请求格式"
   ]
  },
  {
   "cell_type": "markdown",
   "metadata": {},
   "source": [
    "```\n",
    "fetch(\n",
    "    url, {\n",
    "        // all options\n",
    "        method: \"GET\" or \"POST\",\n",
    "        headers: . . .,\n",
    "        body: . . .,\n",
    "    }\n",
    ")\n",
    ".then(\n",
    "    function(response){\n",
    "        \n",
    "    },\n",
    "    function(error){\n",
    "        \n",
    "    }\n",
    ")\n",
    "```\n"
   ]
  },
  {
   "cell_type": "markdown",
   "metadata": {},
   "source": [
    "### 在App.js下面添加以下代码"
   ]
  },
  {
   "cell_type": "markdown",
   "metadata": {},
   "source": [
    "```\n",
    "fetch(\n",
    "  \"/api/weather/city/101280601\", {\n",
    "      method: \"GET\",\n",
    "  }\n",
    ")\n",
    ".then(\n",
    "  function(response){\n",
    "      return response.json()\n",
    "  },\n",
    "  function(error){\n",
    "      \n",
    "  }\n",
    ")\n",
    ".then(\n",
    "  function(data){\n",
    "    console.log(data)\n",
    "  }\n",
    ")\n",
    "```"
   ]
  },
  {
   "cell_type": "markdown",
   "metadata": {},
   "source": [
    "__下面 npm  start，看一下Console吧！__\n",
    "\n",
    "我们可以看到，我们已经成功得到了一个JavaScript对象，是深圳的天气情况！"
   ]
  },
  {
   "cell_type": "code",
   "execution_count": null,
   "metadata": {
    "collapsed": true
   },
   "outputs": [],
   "source": []
  }
 ],
 "metadata": {
  "kernelspec": {
   "display_name": "Javascript (Node.js)",
   "language": "javascript",
   "name": "javascript"
  },
  "language_info": {
   "file_extension": ".js",
   "mimetype": "application/javascript",
   "name": "javascript",
   "version": "8.11.4"
  }
 },
 "nbformat": 4,
 "nbformat_minor": 2
}
